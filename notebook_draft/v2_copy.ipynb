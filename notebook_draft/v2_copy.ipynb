{
 "cells": [
  {
   "cell_type": "code",
   "execution_count": 1,
   "metadata": {},
   "outputs": [],
   "source": [
    "import torch\n",
    "from transformers import AutoTokenizer, AutoModelForCausalLM"
   ]
  },
  {
   "cell_type": "code",
   "execution_count": 2,
   "metadata": {},
   "outputs": [
    {
     "data": {
      "application/vnd.jupyter.widget-view+json": {
       "model_id": "c6190ccaa6c24b63b496e498e06fa240",
       "version_major": 2,
       "version_minor": 0
      },
      "text/plain": [
       "Loading checkpoint shards:   0%|          | 0/3 [00:00<?, ?it/s]"
      ]
     },
     "metadata": {},
     "output_type": "display_data"
    }
   ],
   "source": [
    "# 모델 및 토크나이저 로드\n",
    "model_path = \"./model\"\n",
    "tokenizer = AutoTokenizer.from_pretrained(model_path)\n",
    "model = AutoModelForCausalLM.from_pretrained(\n",
    "    model_path,\n",
    "    torch_dtype=torch.bfloat16,\n",
    "    device_map=\"auto\",\n",
    ")\n",
    "\n",
    "# 요약할 텍스트\n",
    "text = \"\"\"\n",
    "뇌-컴퓨터 인터페이스(Brain-Computer Interface, BCI) 기술이 급격히 발전하면서 신경 장애를 가진 환자들에게 새로운 삶의 가능성을 열고 있다.\n",
    "단순히 운동 기능을 복원하는 수준을 넘어서 일상 생활이나 비디오 게임과 같은 여가 활동을 가능하게 하는 데까지 도달했다.\n",
    "미국 미시간대 연구진은 심각한 운동 장애를 겪는 환자들이 비디오 게임과 같은 여가 활동을 할 수 있도록 돕는 BCI 기술을 개발했다고 밝혔다.\n",
    "연구 결과는 국제 학술지 ‘네이처 메디신(Nature Medicine)’에 21일 공개됐다.\n",
    "BCI 기술은 뇌와 컴퓨터를 연결해 신체 기능을 복원하거나, 인간의 의도를 외부 기기로 전달하는 기술이다.\n",
    "기존 BCI 기술은 마비 환자의 운동 기능 일부를 복원하는 데 사용돼 왔으나, 손가락 움직임과 같은 정교한 동작을 재현하는 데는 한계가 있었다.\n",
    "따라서 타이핑이나 악기 연주, 게임 컨트롤러 조작과 같은 활동을 구현하기에는 어려웠다.\n",
    "연구진은 척수 손상으로 사지마비를 앓는 환자의 뇌에 전극을 이식해 손 움직임과 관련된 신경 신호를 기록했다.\n",
    "환자가 가상 손의 움직임을 관찰할 때 뇌에서 나오는 신경 데이터를 머신러닝 알고리즘으로 분석해 특정 손가락 움직임과 연관된 신호를 식별했다.\n",
    "이를 기반으로 뇌에 전극을 이식한 환자가 손가락을 움직이는 것을 상상하는 것만으로 비디오 게임 속 가상 드론을 조종할 수 있게 했다.\n",
    "환자는 가상 드론의 속도와 방향을 자유롭게 조절하며 여러 장애물을 통과하는 비디오 게임을 성공적으로 수행했다.\n",
    "\"\"\"\n",
    "\n",
    "# 요약 지시를 포함한 입력 생성\n",
    "instruction = \"위 텍스트를 간결하게 요약해 주세요.\"\n",
    "messages = [\n",
    "    {\"role\": \"user\", \"content\": f\"{instruction}\\n\\n{text}\"}\n",
    "]"
   ]
  },
  {
   "cell_type": "code",
   "execution_count": 3,
   "metadata": {},
   "outputs": [],
   "source": [
    "input_ids = tokenizer.apply_chat_template(\n",
    "    messages,\n",
    "    add_generation_prompt=True,\n",
    "    return_tensors=\"pt\"\n",
    ").to(model.device)"
   ]
  },
  {
   "cell_type": "code",
   "execution_count": 4,
   "metadata": {},
   "outputs": [
    {
     "name": "stderr",
     "output_type": "stream",
     "text": [
      "The attention mask and the pad token id were not set. As a consequence, you may observe unexpected behavior. Please pass your input's `attention_mask` to obtain reliable results.\n",
      "Setting `pad_token_id` to `eos_token_id`:128001 for open-end generation.\n",
      "The attention mask is not set and cannot be inferred from input because pad token is same as eos token. As a consequence, you may observe unexpected behavior. Please pass your input's `attention_mask` to obtain reliable results.\n"
     ]
    }
   ],
   "source": [
    "# 텍스트 생성\n",
    "outputs = model.generate(\n",
    "    input_ids,\n",
    "    max_new_tokens=256,\n",
    "    do_sample=True,\n",
    "    temperature=0.6,\n",
    "    top_p=0.9\n",
    ")"
   ]
  },
  {
   "cell_type": "code",
   "execution_count": 5,
   "metadata": {},
   "outputs": [
    {
     "name": "stdout",
     "output_type": "stream",
     "text": [
      "요약 결과:\n",
      "뇌-컴퓨터 인터페이스(Brain-Computer Interface, BCI) 기술은 신경 장애를 가진 환자들에게 새로운 삶의 가능성을 제공하고 있습니다. 연구진은 심각한 운동 장애를 겪는 환자들이 비디오 게임과 같은 여가 활동을 할 수 있도록 BCI 기술을 개발했습니다. 이 기술은 뇌와 컴퓨터를 연결하여 신체 기능을 복원하거나, 인간의 의도를 외부 기기로 전달하는 역할을 합니다. 이전에는 마비 환자의 운동 기능을 일부 복원하는 데 사용되었습니다. 그러나 연구진은 척수 손상으로 사지마비를 앓는 환자의 뇌에 전극을 이식하고, 뇌에서 나오는 신경 데이터를 분석하여 손가락 움직임을 재현하는 신호를 식별했습니다. 이를 기반으로 환자는 가상 손의 움직임을 상상하여 비디오 게임 속 가상 드론을 조종할 수 있게 되었습니다.assistant\n",
      "\n",
      "뇌-컴퓨터 인터페이스(Brain-Computer Interface, BCI) 기술은 신경 장애를 가진 환자들에게 새로운 삶의 가능\n"
     ]
    }
   ],
   "source": [
    "# 생성된 텍스트 디코딩 및 출력\n",
    "summary = tokenizer.decode(outputs[0][input_ids.shape[-1]:], skip_special_tokens=True)\n",
    "print(\"요약 결과:\")\n",
    "print(summary)"
   ]
  },
  {
   "cell_type": "code",
   "execution_count": 8,
   "metadata": {},
   "outputs": [
    {
     "name": "stderr",
     "output_type": "stream",
     "text": [
      "The attention mask and the pad token id were not set. As a consequence, you may observe unexpected behavior. Please pass your input's `attention_mask` to obtain reliable results.\n",
      "Setting `pad_token_id` to `eos_token_id`:128001 for open-end generation.\n"
     ]
    }
   ],
   "source": [
    "# 주관식 문제 생성 지시\n",
    "instruction = \"다음 요약 내용을 기반으로 문제와 정답을 생성해주세요.\\n\\n\"\n",
    "\n",
    "messages = [\n",
    "    {\"role\": \"user\", \"content\": f\"{instruction}{summary}\"}\n",
    "]\n",
    "\n",
    "input_ids = tokenizer.apply_chat_template(\n",
    "    messages,\n",
    "    add_generation_prompt=True,\n",
    "    return_tensors=\"pt\"\n",
    ").to(model.device)\n",
    "\n",
    "# 텍스트 생성\n",
    "outputs = model.generate(\n",
    "    input_ids,\n",
    "    max_new_tokens=256,\n",
    "    do_sample=True,\n",
    "    temperature=0.6,\n",
    "    top_p=0.9\n",
    ")"
   ]
  },
  {
   "cell_type": "code",
   "execution_count": 7,
   "metadata": {},
   "outputs": [
    {
     "name": "stdout",
     "output_type": "stream",
     "text": [
      "생성된 주관식 문제와 정답:\n",
      "뇌-컴퓨터 인터페이스(Brain-Computer Interface, BCI) 기술은 신경 장애를 가진 환자들에게 새로운 삶의 가능성을 제공하고 있습니다. 연구진은 심각한 운동 장애를 겪는 환자들이 비디오 게임과 같은 여가 활동을 할 수 있도록 BCI 기술을 개발했습니다. 이 기술은 뇌와 컴퓨터를 연결하여 신체 기능을 복원하거나, 인간의 의도를 외부 기기로 전달하는 역할을 합니다. 이전에는 마비 환자의 운동 기능을 일부 복원하는 데 사용되었습니다. 그러나 연구진은 척수 손상으로 사지마비를 앓는 환자의 뇌에 전극을 이식하고, 뇌에서 나오는 신경 데이터를 분석하여 손가락 움직임을 재현하는 신호를 식별했습니다. 이를 기반으로 환자는 가상 손의 움직임을 상상하여 비디오 게임 속 가상 드론을 조종할 수 있게 되었습니다.assistant\n",
      "\n",
      "뇌-컴퓨터 인터페이스(Brain-Computer Interface, BCI) 기술은 신경 장애를 가진 환자들에게 새로운 삶의 가능\n"
     ]
    }
   ],
   "source": [
    "# 생성된 문제와 정답 출력\n",
    "qa_pair = tokenizer.decode(outputs[0][input_ids.shape[-1]:], skip_special_tokens=True)\n",
    "print(\"생성된 주관식 문제와 정답:\")\n",
    "print(qa_pair)"
   ]
  }
 ],
 "metadata": {
  "kernelspec": {
   "display_name": "pytorch",
   "language": "python",
   "name": "python3"
  },
  "language_info": {
   "codemirror_mode": {
    "name": "ipython",
    "version": 3
   },
   "file_extension": ".py",
   "mimetype": "text/x-python",
   "name": "python",
   "nbconvert_exporter": "python",
   "pygments_lexer": "ipython3",
   "version": "3.12.8"
  }
 },
 "nbformat": 4,
 "nbformat_minor": 2
}
