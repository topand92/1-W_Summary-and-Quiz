{
 "cells": [
  {
   "cell_type": "code",
   "execution_count": 1,
   "metadata": {},
   "outputs": [],
   "source": [
    "import torch\n",
    "from transformers import AutoModelForCausalLM, AutoTokenizer"
   ]
  },
  {
   "cell_type": "code",
   "execution_count": null,
   "metadata": {},
   "outputs": [
    {
     "data": {
      "application/vnd.jupyter.widget-view+json": {
       "model_id": "1852919ba25a447c8fe2eeabfe4cbfe2",
       "version_major": 2,
       "version_minor": 0
      },
      "text/plain": [
       "Loading checkpoint shards:   0%|          | 0/3 [00:00<?, ?it/s]"
      ]
     },
     "metadata": {},
     "output_type": "display_data"
    }
   ],
   "source": [
    "# 모델 및 토크나이저 로드\n",
    "model_path = \"./model\" # 로컬 모델 경로\n",
    "tokenizer = AutoTokenizer.from_pretrained(model_path)\n",
    "model = AutoModelForCausalLM.from_pretrained(model_path)\n",
    "\n",
    "# GPU 사용 설정\n",
    "device = torch.device(\"cuda\" if torch.cuda.is_available() else \"cpu\")\n",
    "model.to(device)"
   ]
  },
  {
   "cell_type": "code",
   "execution_count": 3,
   "metadata": {},
   "outputs": [],
   "source": [
    "# 요약할 텍스트\n",
    "text = \"\"\"\n",
    "엔비디아가 차세대 게이밍 GPU(그래픽처리장치) '지포스 RTX 50시리즈'를 내놓으며 PC용 AI칩 시장을 겨냥한다.\n",
    "올해 초 미국 라스베이거스서 개최된 CES 2025에서 선보인 바 있는 RTX 50 시리즈는 개인용 AI PC 시장을 바꿔놓을 게임 체인저로 지목되면서 향후 인텔, 퀄컴, AMD 등과의 치열한 각축전이 예상되고 있다.\n",
    "20일 엔비디아는 서울 코엑스에서 'RTX AI PC 데이'를 열고 새로운 아키텍처 '블랙웰'이 탑재된 '지포스 RTX 50 시리즈'를 발표했다.\n",
    "이는 RTX는 엔비디아가 만든 GPU(그래픽처리장치)인데 이번에 새롭게 나온 50 시리즈(5090, 5080, 5070TI, 5070)등은 이전 세대보다 강화된 AI(인공지능) 기술과 낮아진 가격을 자랑한다.\n",
    "이중에서도 5090 제품의 경우 최고급 PC에 주로 사용되며 게이밍, 그래픽 연산 등에 주로 사용된다. 게이머 뿐 아니라 개발자, 크리에이터 등을 위한 최고 사양을 자랑한다.\n",
    "RTX 5090의 경우 초당 데이터 전송량이 초당 1.8TB(테라바이트)로, 이전 모델인 RTX 4090보다 두 배 향상됐다.\n",
    "성능은 높아졌으나 배터리 효율은 더욱 개선됐다는 것이 엔비디아 측의 설명이다.\n",
    "\"\"\"\n",
    "\n",
    "# 프롬프트 생성 (요약 지시)\n",
    "summary_prompt = f\"다음 글을 간결하게 요약하세요:\\n{text}\\n요약:\"\n",
    "\n",
    "# 입력 텍스트 토크나이즈\n",
    "inputs = tokenizer(summary_prompt, return_tensors=\"pt\", max_length=2048, truncation=True)\n",
    "inputs = {key: value.to(device) for key, value in inputs.items()}"
   ]
  },
  {
   "cell_type": "code",
   "execution_count": 4,
   "metadata": {},
   "outputs": [
    {
     "name": "stderr",
     "output_type": "stream",
     "text": [
      "The attention mask and the pad token id were not set. As a consequence, you may observe unexpected behavior. Please pass your input's `attention_mask` to obtain reliable results.\n",
      "Setting `pad_token_id` to `eos_token_id`:128001 for open-end generation.\n",
      "The attention mask is not set and cannot be inferred from input because pad token is same as eos token. As a consequence, you may observe unexpected behavior. Please pass your input's `attention_mask` to obtain reliable results.\n"
     ]
    }
   ],
   "source": [
    "# 요약 생성\n",
    "output_ids = model.generate(\n",
    "    inputs[\"input_ids\"],\n",
    "    max_new_tokens=150,     # 요약 최대 길이\n",
    "    temperature=0.7,        # 창의성 조절\n",
    "    top_p=0.9,              # 확률 분포 컷오프\n",
    "    repetition_penalty=1.2, # 반복 방지\n",
    ")"
   ]
  },
  {
   "cell_type": "code",
   "execution_count": 5,
   "metadata": {},
   "outputs": [
    {
     "name": "stdout",
     "output_type": "stream",
     "text": [
      "요약 결과: 다음 글을 간결하게 요약하세요:\n",
      "\n",
      "엔비디아가 차세대 게이밍 GPU(그래픽처리장치) '지포스 RTX 50시리즈'를 내놓으며 PC용 AI칩 시장을 겨냥한다. \n",
      "올해 초 미국 라스베이거스서 개최된 CES 2025에서 선보인 바 있는 RTX 50 시리즈는 개인용 AI PC 시장을 바꿔놓을 게임 체인저로 지목되면서 \n",
      "향후 인텔, 퀄컴, AMD 등과의 치열한 각축전이 예상되고 있다. \n",
      "20일 엔비디아는 서울 코엑스에서 'RTX AI PC 데이'를 열고 새로운 아키텍처 '블랙웰'이 탑재된 '지포스 RTX 50 시리즈'를 발표했다. \n",
      "이는 RTX는 엔비디아가 만든 GPU(그래픽처리장치)인데 이번에 새롭게 나온 50 시리즈(5090, 5080, 5070TI, 5070)등은 이전 세대보다 \n",
      "강화된 AI(인공지능) 기술과 낮아진 가격을 자랑한다. \n",
      "이중에서도 5090 제품의 경우 최고급 PC에 주로 사용되며 게이밍, 그래픽 연산 등에 주로 사용된다. \n",
      "게이머 뿐 아니라 개발자, 크리에이터 등을 위한 최고 사양을 자랑한다. \n",
      "RTX 5090의 경우 초당 데이터 전송량이 초당 1.8TB(테라바이트)로, 이전 모델인 RTX 4090보다 두 배 향상됐다. \n",
      "성능은 높아졌으나 배터리 효율은 더욱 개선됐다는 것이 엔비디아 측의 설명이다.\n",
      "\n",
      "요약: 엔비디아가 차세대 AI 칩을 장착한 '지포스 RTX 50 시리즈'를 출시하며, 인텔, 퀄컴, AMD와 경쟁하는 가운데 PC 용 AI 칩 시장에 큰 영향을 줄 것으로 기대된다. 이 중最高급 제품인 RTX 5090은 초당 데이터 전송량이 2배 이상 증가했으며, 성능도 높았다. \n",
      "\n",
      "---\n",
      "\n",
      "물론 이 글의 내용을 간결히 요약하기 위해 몇 가지 조정이 필요할 수 있습니다. 하지만 주요 정보를 유지하면서 also라는 문구를 추가하여 원래 글의 의미를 남겨두면 좋습니다. 또한, 중요한 부분만 제외하고\n"
     ]
    }
   ],
   "source": [
    "# 결과 디코딩\n",
    "summary_text = tokenizer.decode(output_ids[0], skip_special_tokens=True)\n",
    "print(\"요약 결과:\", summary_text)"
   ]
  },
  {
   "cell_type": "code",
   "execution_count": null,
   "metadata": {},
   "outputs": [],
   "source": [
    "# 2단계: 요약 텍스트로 퀴즈 생성\n",
    "quiz_prompt = f\"다음 요약 내용을 기반으로 주관식 퀴즈와 정답을 생성하세요:\\n{summary_text}\\n퀴즈:\"\n",
    "quiz_inputs = tokenizer(quiz_prompt, return_tensors=\"pt\", max_length=2048, truncation=True)\n",
    "quiz_inputs = {key: value.to(device) for key, value in quiz_inputs.items()}"
   ]
  },
  {
   "cell_type": "code",
   "execution_count": 8,
   "metadata": {},
   "outputs": [
    {
     "name": "stderr",
     "output_type": "stream",
     "text": [
      "The attention mask and the pad token id were not set. As a consequence, you may observe unexpected behavior. Please pass your input's `attention_mask` to obtain reliable results.\n",
      "Setting `pad_token_id` to `eos_token_id`:128001 for open-end generation.\n"
     ]
    }
   ],
   "source": [
    "quiz_ids = model.generate(\n",
    "    quiz_inputs[\"input_ids\"],\n",
    "    max_new_tokens=200,\n",
    "    temperature=0.7,\n",
    "    top_p=0.9,\n",
    "    repetition_penalty=1.2,\n",
    ")"
   ]
  },
  {
   "cell_type": "code",
   "execution_count": 9,
   "metadata": {},
   "outputs": [
    {
     "name": "stdout",
     "output_type": "stream",
     "text": [
      "\n",
      "생성된 퀴즈 및 정답:\n",
      " 다음 요약 내용을 기반으로 주관식 퀴즈와 정답을 생성하세요:\n",
      "다음 글을 간결하게 요약하세요:\n",
      "\n",
      "엔비디아가 차세대 게이밍 GPU(그래픽처리장치) '지포스 RTX 50시리즈'를 내놓으며 PC용 AI칩 시장을 겨냥한다. \n",
      "올해 초 미국 라스베이거스서 개최된 CES 2025에서 선보인 바 있는 RTX 50 시리즈는 개인용 AI PC 시장을 바꿔놓을 게임 체인저로 지목되면서 \n",
      "향후 인텔, 퀄컴, AMD 등과의 치열한 각축전이 예상되고 있다. \n",
      "20일 엔비디아는 서울 코엑스에서 'RTX AI PC 데이'를 열고 새로운 아키텍처 '블랙웰'이 탑재된 '지포스 RTX 50 시리즈'를 발표했다. \n",
      "이는 RTX는 엔비디아가 만든 GPU(그래픽처리장치)인데 이번에 새롭게 나온 50 시리즈(5090, 5080, 5070TI, 5070)등은 이전 세대보다 \n",
      "강화된 AI(인공지능) 기술과 낮아진 가격을 자랑한다. \n",
      "이중에서도 5090 제품의 경우 최고급 PC에 주로 사용되며 게이밍, 그래픽 연산 등에 주로 사용된다. \n",
      "게이머 뿐 아니라 개발자, 크리에이터 등을 위한 최고 사양을 자랑한다. \n",
      "RTX 5090의 경우 초당 데이터 전송량이 초당 1.8TB(테라바이트)로, 이전 모델인 RTX 4090보다 두 배 향상됐다. \n",
      "성능은 높아졌으나 배터리 효율은 더욱 개선됐다는 것이 엔비디아 측의 설명이다.\n",
      "\n",
      "요약: 엔비디아가 차세대 AI 칩을 장착한 '지포스 RTX 50 시리즈'를 출시하며, 인텔, 퀄컴, AMD와 경쟁하는 가운데 PC 용 AI 칩 시장에 큰 영향을 줄 것으로 기대된다. 이 중最高급 제품인 RTX 5090은 초당 데이터 전송량이 2배 이상 증가했으며, 성능도 높았다. \n",
      "\n",
      "---\n",
      "\n",
      "물론 이 글의 내용을 간결히 요약하기 위해 몇 가지 조정이 필요할 수 있습니다. 하지만 주요 정보를 유지하면서 also라는 문구를 추가하여 원래 글의 의미를 남겨두면 좋습니다. 또한, 중요한 부분만 제외하고\n",
      "퀴즈: \n",
      "1. 엔비디아가 announce 한 새로운 아키텍처는 무엇인가?\n",
      "   - answer: 블랙웰\n",
      "2. RTX 5090의 초당 데이터 전송량은?\n",
      "   - answer: 초당 1.8TB\n",
      "3. RTX 5090의 성능 향상程度은?\n",
      "   - answer: 2배 이상\n",
      "\n",
      "정답: \n",
      "1. 엔비디아가 announce 한 새로운 아키텍처는 '블랙웰'.\n",
      "2. RTX 5090의 초당 데이터 전송량은 초당 1.8TB.\n",
      "3. RTX 5090의 성능 향상Degree는 2배 이상입니다. (다른 시리즈와 비교하면)\n",
      "\n",
      "위에 작성된 정답을 통해 다른 사람들에게 도움을 드릴 수 있을 것입니다! \n",
      "\n",
      "그럼에도 불구하고, 원본글의 일부 내용을 포함한 보완적인 요\n"
     ]
    }
   ],
   "source": [
    "quiz_output = tokenizer.decode(quiz_ids[0], skip_special_tokens=True)\n",
    "print(\"\\n생성된 퀴즈 및 정답:\\n\", quiz_output)"
   ]
  }
 ],
 "metadata": {
  "kernelspec": {
   "display_name": "pytorch",
   "language": "python",
   "name": "python3"
  },
  "language_info": {
   "codemirror_mode": {
    "name": "ipython",
    "version": 3
   },
   "file_extension": ".py",
   "mimetype": "text/x-python",
   "name": "python",
   "nbconvert_exporter": "python",
   "pygments_lexer": "ipython3",
   "version": "3.12.8"
  }
 },
 "nbformat": 4,
 "nbformat_minor": 2
}
