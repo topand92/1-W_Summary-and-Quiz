{
 "cells": [
  {
   "cell_type": "code",
   "execution_count": 10,
   "metadata": {},
   "outputs": [],
   "source": [
    "import os\n",
    "from langchain_openai import ChatOpenAI\n",
    "from langchain.prompts import ChatPromptTemplate\n",
    "\n",
    "os.environ['OPENAI_API_KEY'] = ''\n",
    "llm = ChatOpenAI(model=\"gpt-4o-mini\") # gpt-3.5-turbo\n",
    "\n",
    "from langchain_core.messages import SystemMessage, HumanMessage\n",
    "from langchain_core.output_parsers import StrOutputParser\n",
    "parser = StrOutputParser()"
   ]
  },
  {
   "cell_type": "code",
   "execution_count": null,
   "metadata": {},
   "outputs": [],
   "source": [
    "message = [\n",
    "    SystemMessage(content=\"Translate the following from English to Korean\"),\n",
    "    HumanMessage(content=\"Hi\"),\n",
    "]\n",
    "\n",
    "result = llm.invoke(message)\n",
    "result = parser.invoke(result)\n",
    "print(result)"
   ]
  },
  {
   "cell_type": "code",
   "execution_count": null,
   "metadata": {},
   "outputs": [],
   "source": [
    "from langchain_core.prompts import ChatPromptTemplate\n",
    "\n",
    "system_template = \"Translate the following from English into {language}:\"\n",
    "user_template = \"translate to {text}\"\n",
    "\n",
    "prompt_template = ChatPromptTemplate.from_messages(\n",
    "    [(\"system\", system_template), (\"user\", user_template)]\n",
    ")\n",
    "chain = prompt_template | llm | parser\n",
    "\n",
    "result = chain.invoke({\"language\": \"Korean\", \"text\": \"Hi!!!\"})\n",
    "print(result)"
   ]
  },
  {
   "cell_type": "code",
   "execution_count": null,
   "metadata": {},
   "outputs": [],
   "source": [
    "prompt = ChatPromptTemplate.from_template(\"지구과학에서 {topic}에 대해 간단히 설명해주세요.\")\n",
    "chain = prompt | llm | parser\n",
    "\n",
    "# batch method\n",
    "topics = {\"지구자전\", \"화산활동\", \"대륙이동\"}\n",
    "result = chain.batch([{\"topic\": t} for t in topics])\n",
    "for topic, result in zip(topics, result):\n",
    "    print(result)\n",
    "    print(f\"{topic} result: {result[:50]}...\\n\")"
   ]
  },
  {
   "cell_type": "code",
   "execution_count": null,
   "metadata": {},
   "outputs": [],
   "source": [
    "from langchain.chains.llm import LLMChain\n",
    "from langchain_core.prompts import PromptTemplate\n",
    "from langchain_openai import ChatOpenAI\n",
    "\n",
    "llm = ChatOpenAI()\n",
    "\n",
    "input_variables = [{\"language\": \"Java\"}, {\"language\": \"Python\"}]\n",
    "template = \"{language}로 1부터 10까지 출력하는 함수를 만들어 줘.\"\n",
    "\n",
    "prompt = PromptTemplate.from_template(template=template)\n",
    "chain = LLMChain(llm=llm, prompt=prompt)\n",
    "result = chain.apply(input_variables)\n",
    "print(result)"
   ]
  },
  {
   "cell_type": "code",
   "execution_count": null,
   "metadata": {},
   "outputs": [],
   "source": [
    "prompt = ChatPromptTemplate.from_template(\"지구과학에서 {topic}에 대해 간단히 설명해주세요.\")\n",
    "chain = prompt | llm | parser\n",
    "\n",
    "# stream method\n",
    "stream = chain.stream({\"topic\": \"earthquake\"})\n",
    "print(\"stream result: \")\n",
    "for chunk in stream:\n",
    "    print(chunk, end=\"\", flush=True)\n",
    "print()"
   ]
  }
 ],
 "metadata": {
  "kernelspec": {
   "display_name": "Python 3",
   "language": "python",
   "name": "python3"
  },
  "language_info": {
   "codemirror_mode": {
    "name": "ipython",
    "version": 3
   },
   "file_extension": ".py",
   "mimetype": "text/x-python",
   "name": "python",
   "nbconvert_exporter": "python",
   "pygments_lexer": "ipython3",
   "version": "3.11.0"
  }
 },
 "nbformat": 4,
 "nbformat_minor": 2
}
