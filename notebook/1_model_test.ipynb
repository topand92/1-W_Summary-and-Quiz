{
 "cells": [
  {
   "cell_type": "code",
   "execution_count": 1,
   "metadata": {},
   "outputs": [],
   "source": [
    "from transformers import AutoTokenizer, AutoModelForSeq2SeqLM"
   ]
  },
  {
   "cell_type": "code",
   "execution_count": 2,
   "metadata": {},
   "outputs": [],
   "source": [
    "# 로컬 저장된 모델과 토크나이저 경로\n",
    "local_model_path = \"./model\"\n",
    "\n",
    "# 로컬에서 토크나이저 및 모델 로드\n",
    "tokenizer = AutoTokenizer.from_pretrained(local_model_path)\n",
    "model = AutoModelForSeq2SeqLM.from_pretrained(local_model_path)"
   ]
  },
  {
   "cell_type": "code",
   "execution_count": 8,
   "metadata": {},
   "outputs": [],
   "source": [
    "def summarize_text(text, max_input_length=512, max_output_length=150):\n",
    "    \"\"\"\n",
    "    한국어 텍스트 요약 함수\n",
    "\n",
    "    :param text: 요약할 텍스트 (string)\n",
    "    :param max_input_length: 입력 텍스트의 최대 길이 (기본값 512)\n",
    "    :param max_output_length: 출력 요약문의 최대 길이 (기본값 150)\n",
    "    :return: 요약된 텍스트 (string)\n",
    "    \"\"\"\n",
    "\n",
    "    # 입력 텍스트 토큰화 및 최대 길이 조정\n",
    "    inputs = tokenizer(\n",
    "        text,\n",
    "        return_tensors=\"pt\",\n",
    "        max_length=max_input_length,\n",
    "        truncation=True\n",
    "    )\n",
    "\n",
    "    # 요약 생성\n",
    "    summary_ids = model.generate(\n",
    "        inputs[\"input_ids\"],\n",
    "        max_length=max_output_length,\n",
    "        num_beams=7,            # 빔 서치 증가로 품질 향상\n",
    "        repetition_penalty=2.0, # 반복 억제 강도\n",
    "        no_repeat_ngram_size=3, # 3단어 이상 반복 방지\n",
    "        early_stopping=True\n",
    "    )\n",
    "\n",
    "    # 요약문 디코딩\n",
    "    summary = tokenizer.decode(summary_ids[0], skip_special_tokens=True)\n",
    "    return summary"
   ]
  },
  {
   "cell_type": "code",
   "execution_count": 9,
   "metadata": {},
   "outputs": [
    {
     "name": "stdout",
     "output_type": "stream",
     "text": [
      "요약 결과:\n",
      "젠슨 황 엔비디아 최고경영자(CEO)는 지난 7일 미국 라스베이거스 ‘시이에스 2025’ 현장에서 진행된 블룸버그와의 인터뷰에서 로봇은 다양한 분야에 적용될 수 있고 제품 생산 분야에도 가장 먼저 적용되어 시장 기회가 열리고 있음을 알린 것으로 전날 기조연설에서 발표한 '피지컬 에이아이(AI·인공지능)'의 중요성을 강조하며 시장, 기술, 산업적으로 큰 의미를 지닌다.\n"
     ]
    }
   ],
   "source": [
    "# 테스트할 한국어 기사 본문\n",
    "korean_text = \"\"\"\n",
    "“로보틱스 시장 규모는 50조달러(약 7경2800조원)로 평가됩니다. 앞으로 더 커질 거대한 시장입니다.” 젠슨 황 엔비디아 최고경영자(CEO)는 지난 7일(현지시각) 미국 라스베이거스 ‘시이에스(CES) 2025’ 현장에서 진행된 블룸버그와의 인터뷰에서 “로봇은 다양한 분야에 적용될 수 있다. 제품 생산 분야에 가장 먼저 적용될 것”이라며 이렇게 말했다. 전날 기조연설에서 발표한 ‘피지컬 에이아이(AI·인공지능)’의 중요성을 강조하며 시장 기회가 열리고 있음을 알린 것이다. ‘피지컬 에이아이’는 젠슨 황이 제시한 인공지능 발전 ​단계 중 네번째 단계에 해당하는 개념이다. 텍스트, 이미지 같은 데이터를 이해하고 처리하는 ‘인식 에이아이’, 데이터에서 패턴을 파악해 콘텐츠를 생성할 수 있는 ‘생성형 에이아이’, 사람의 개입 없이 특정 작업을 자율 수행하는 ‘에이전트 에이아이’를 거쳐, 이젠 물리 법칙까지 이해하는 ‘피지컬 에이아이’ 시대가 시작됐다는 것이다. 피지컬 에이아이는 인터넷, 피시(PC), 스마트폰을 벗어난 인공지능이란 점에서 기술·산업적으로 큰 의미를 지닌다. 물리 법칙을 이해한다는 건 단순히 에이아이와 대화를 나누는 수준을 넘어 현실 세계에서 에이아이에게 작업을 시킬 수 있다는 뜻이 되기 때문이다. 자율주행차, 공장 생산 라인에 배치할 수 있는 휴머노이드 로봇 등이 대표적인 예다. 다양한 물리 기기에 탑재된 피지컬 에이아이가 제조, 물류, 건설, 에너지, 농업, 식품, 의료, 서비스 산업에 이르기까지 사실상 모든 산업에 활용될 것이란 관측이 나온다. 테슬라는 생산 라인에 배치하기 위해 휴머노이드 로봇 ‘옵티머스’를 개발 중이며 베엠베(BMW) 역시 미국 스타트업 피겨와 손잡고 휴머노이드 로봇 ‘피겨 02’를 생산 공정에 투입해 테스트를 진행하고 있다. 문제는 방대한 양의 실제 데이터와 함께 테스트가 필요하다 보니 피지컬 에이아이를 구축하는 비용이 만만치 않다는 점이다. 엔비디아는 이 문제를 해결하겠다며 ‘코스모스’라는 새로운 피지컬 에이아이 개발 플랫폼을 발표했다. 엔비디아에 따르면 ‘코스모스 월드 파운데이션 모델’과 자체 3차원(3D) 시뮬레이션 플랫폼 ‘옴니버스’를 결합해 피지컬 에이아이 개발 비용을 낮출 수 있다. 현장 테스트, 도로 주행 등을 통해 수집한 데이터가 적더라도 현실과 거의 똑같은 시뮬레이션 영상으로 인공지능을 훈련해, 자율주행과 로봇 기술을 고도화할 수 있는 길을 열었다는 것이다. 이번 발표를 계기로 ‘제2의 기계 시대’가 본격화할 것이란 전망도 나온다. 젠슨 황은 “로봇 공학을 위한 챗지피티(GPT)의 순간이 다가오고 있다”고 말했다. 이런 변화는 한국 기업들에 커다란 기회 요인이 될 전망이다. 자율주행차와 로봇의 ‘두뇌’(피지컬 에이아이)를 개발하는 일이 상대적으로 쉬워지면서 다양한 시도를 해볼 수 있는 환경이 조성됐다. 무엇보다 조선, 자동차, 가전, 반도체를 비롯한 첨단 제조업 기반 시설, 관련 지식과 노하우를 축적해왔다는 점이 대한민국의 큰 강점이다. 피지컬 에이아이 기반의 기기를 실제 작동하게 하고, 나아가 상업화하려면 제조, 기계, 소재 분야 역량이 필수적으로 뒷받침돼야 한다. 미래학자인 정지훈 아시아투지(2G)캐피털 파트너는 “실리콘밸리에서는 최근 기계공학 전공자에 대한 관심이 높아지고 있다”며 “앞으로 에이아이가 물리 세계에서 동작하게 만들어줄 인재, 기술, 기업이 각광받을 가능성이 크다”고 했다. 엔비디아가 제시한 화두를 어떻게 활용하느냐는 다른 이들의 몫이다. 새해를 시작하는 시점에 촉발된 새로운 기회를 한국의 인재, 기업들이 적극적으로 발전시켜 2025년을 혁신과 성공의 해로 만들었으면 하는 바람이다.\n",
    "\"\"\"\n",
    "\n",
    "# 요약 실행 및 결과 출력\n",
    "summary_result = summarize_text(korean_text)\n",
    "print(\"요약 결과:\")\n",
    "print(summary_result)"
   ]
  }
 ],
 "metadata": {
  "kernelspec": {
   "display_name": "pytorch",
   "language": "python",
   "name": "python3"
  },
  "language_info": {
   "codemirror_mode": {
    "name": "ipython",
    "version": 3
   },
   "file_extension": ".py",
   "mimetype": "text/x-python",
   "name": "python",
   "nbconvert_exporter": "python",
   "pygments_lexer": "ipython3",
   "version": "3.12.8"
  }
 },
 "nbformat": 4,
 "nbformat_minor": 2
}
