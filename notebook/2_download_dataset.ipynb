{
 "cells": [
  {
   "cell_type": "code",
   "execution_count": 3,
   "metadata": {},
   "outputs": [],
   "source": [
    "import os\n",
    "from datasets import load_dataset"
   ]
  },
  {
   "cell_type": "code",
   "execution_count": 4,
   "metadata": {},
   "outputs": [],
   "source": [
    "# 데이터셋 정보\n",
    "dataset_name = \"daekeun-ml/naver-news-summarization-ko\"\n",
    "local_dir = \"dataset\"\n",
    "\n",
    "# 로컬 폴더 생성 (없으면 생성)\n",
    "os.makedirs(local_dir, exist_ok=True)"
   ]
  },
  {
   "cell_type": "code",
   "execution_count": 5,
   "metadata": {},
   "outputs": [
    {
     "name": "stdout",
     "output_type": "stream",
     "text": [
      "Downloading dataset: daekeun-ml/naver-news-summarization-ko\n"
     ]
    },
    {
     "data": {
      "application/vnd.jupyter.widget-view+json": {
       "model_id": "d1e4ce8b274c44b8be3210f9de45d49a",
       "version_major": 2,
       "version_minor": 0
      },
      "text/plain": [
       "Saving the dataset (0/1 shards):   0%|          | 0/22194 [00:00<?, ? examples/s]"
      ]
     },
     "metadata": {},
     "output_type": "display_data"
    },
    {
     "data": {
      "application/vnd.jupyter.widget-view+json": {
       "model_id": "bb5e3352957a411691190e93e96e7979",
       "version_major": 2,
       "version_minor": 0
      },
      "text/plain": [
       "Saving the dataset (0/1 shards):   0%|          | 0/2466 [00:00<?, ? examples/s]"
      ]
     },
     "metadata": {},
     "output_type": "display_data"
    },
    {
     "data": {
      "application/vnd.jupyter.widget-view+json": {
       "model_id": "1b58e5804e57480dafd1fe01589e7d9a",
       "version_major": 2,
       "version_minor": 0
      },
      "text/plain": [
       "Saving the dataset (0/1 shards):   0%|          | 0/2740 [00:00<?, ? examples/s]"
      ]
     },
     "metadata": {},
     "output_type": "display_data"
    },
    {
     "name": "stdout",
     "output_type": "stream",
     "text": [
      "Dataset saved to: dataset\\daekeun-ml_naver-news-summarization-ko.json\n"
     ]
    }
   ],
   "source": [
    "# 데이터셋 다운로드\n",
    "print(f\"Downloading dataset: {dataset_name}\")\n",
    "dataset = load_dataset(dataset_name)\n",
    "\n",
    "# 저장할 파일 경로 설정\n",
    "save_path = os.path.join(local_dir, f\"{dataset_name.replace('/', '_')}.json\")\n",
    "\n",
    "# 데이터셋을 JSON 형식으로 저장\n",
    "dataset.save_to_disk(local_dir)\n",
    "\n",
    "print(f\"Dataset saved to: {save_path}\")"
   ]
  }
 ],
 "metadata": {
  "kernelspec": {
   "display_name": "pytorch",
   "language": "python",
   "name": "python3"
  },
  "language_info": {
   "codemirror_mode": {
    "name": "ipython",
    "version": 3
   },
   "file_extension": ".py",
   "mimetype": "text/x-python",
   "name": "python",
   "nbconvert_exporter": "python",
   "pygments_lexer": "ipython3",
   "version": "3.12.8"
  }
 },
 "nbformat": 4,
 "nbformat_minor": 2
}
