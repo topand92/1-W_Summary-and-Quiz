{
 "cells": [
  {
   "cell_type": "code",
   "execution_count": 1,
   "metadata": {},
   "outputs": [],
   "source": [
    "import torch\n",
    "from tqdm import tqdm\n",
    "from transformers import AutoTokenizer, AutoModelForSeq2SeqLM\n",
    "from datasets import load_from_disk\n",
    "from rouge_score import rouge_scorer\n",
    "from bert_score import score"
   ]
  },
  {
   "cell_type": "code",
   "execution_count": null,
   "metadata": {},
   "outputs": [],
   "source": [
    "# 로컬 경로 설정\n",
    "model_path = \"./model\"     # 모델 경로\n",
    "dataset_path = \"./dataset\" # 데이터셋 경로\n",
    "\n",
    "# GPU 설정 (가능하면 CUDA 사용, 아니면 CPU)\n",
    "device = torch.device(\"cuda\" if torch.cuda.is_available() else \"cpu\")\n",
    "print(f\"Device: {device}\")\n",
    "\n",
    "# 모델과 토크나이저 로드 (GPU로 이동)\n",
    "tokenizer = AutoTokenizer.from_pretrained(model_path)\n",
    "model = AutoModelForSeq2SeqLM.from_pretrained(model_path).to(device)\n",
    "\n",
    "# 데이터셋 로드 및 샘플링 (100개 샘플링)\n",
    "dataset = load_from_disk(dataset_path)\n",
    "test_data = dataset[\"test\"].select(range(100)) # 상위 100개 샘플 선택\n",
    "\n",
    "# ROUGE 및 BERTScore 준비\n",
    "rouge_scorer_tool = rouge_scorer.RougeScorer([\"rouge1\", \"rouge2\", \"rougeL\"], use_stemmer=True)\n",
    "rouge_results = {\"rouge1\": [], \"rouge2\": [], \"rougeL\": []}\n",
    "references = []\n",
    "hypotheses = []\n",
    "\n",
    "# 배치 처리 설정\n",
    "batch_size = 8 # 적절한 배치 크기 설정"
   ]
  },
  {
   "cell_type": "code",
   "execution_count": null,
   "metadata": {},
   "outputs": [],
   "source": [
    "# 배치 단위로 요약 및 평가 진행\n",
    "for i in tqdm(range(0, len(test_data), batch_size), desc=\"Evaluating\"):\n",
    "    batch = test_data.select(range(i, min(i + batch_size, len(test_data))))\n",
    "    input_texts = batch[\"document\"]\n",
    "    reference_summaries = batch[\"summary\"]\n",
    "\n",
    "    # 텍스트를 토큰화하고 GPU로 전송\n",
    "    inputs = tokenizer(input_texts, return_tensors=\"pt\", padding=True, truncation=True, max_length=512).to(device)\n",
    "\n",
    "    # 모델 요약 생성\n",
    "    summary_ids = model.generate(inputs[\"input_ids\"], max_length=128, num_beams=4, early_stopping=True)\n",
    "    generated_summaries = tokenizer.batch_decode(summary_ids, skip_special_tokens=True)\n",
    "\n",
    "    # ROUGE 점수 계산\n",
    "    for ref, gen in zip(reference_summaries, generated_summaries):\n",
    "        scores = rouge_scorer_tool.score(ref, gen)\n",
    "        for key in rouge_results:\n",
    "            rouge_results[key].append(scores[key].fmeasure)\n",
    "\n",
    "    # BERTScore를 위한 준비\n",
    "    references.extend(reference_summaries)\n",
    "    hypotheses.extend(generated_summaries)"
   ]
  },
  {
   "cell_type": "code",
   "execution_count": null,
   "metadata": {},
   "outputs": [],
   "source": [
    "# BERTScore 계산\n",
    "precision, recall, f1 = score(hypotheses, references, lang=\"ko\", verbose=True)\n",
    "\n",
    "# 평가 결과 출력\n",
    "print(\"\\nROUGE Scores:\")\n",
    "for key, values in rouge_results.items():\n",
    "    print(f\"{key}: {sum(values) / len(values):.4f}\")\n",
    "\n",
    "print(\"\\nBERTScore:\")\n",
    "print(f\"Precision: {precision.mean().item():.4f}\")\n",
    "print(f\"Recall: {recall.mean().item():.4f}\")\n",
    "print(f\"F1: {f1.mean().item():.4f}\")"
   ]
  }
 ],
 "metadata": {
  "kernelspec": {
   "display_name": "pytorch",
   "language": "python",
   "name": "python3"
  },
  "language_info": {
   "codemirror_mode": {
    "name": "ipython",
    "version": 3
   },
   "file_extension": ".py",
   "mimetype": "text/x-python",
   "name": "python",
   "nbconvert_exporter": "python",
   "pygments_lexer": "ipython3",
   "version": "3.12.8"
  }
 },
 "nbformat": 4,
 "nbformat_minor": 2
}
