{
 "cells": [
  {
   "cell_type": "code",
   "execution_count": 1,
   "metadata": {},
   "outputs": [],
   "source": [
    "import os\n",
    "import torch\n",
    "from transformers import AutoTokenizer, AutoModelForSeq2SeqLM, AutoModelForCausalLM"
   ]
  },
  {
   "cell_type": "code",
   "execution_count": null,
   "metadata": {},
   "outputs": [],
   "source": [
    "# 모델과 토크나이저 경로 설정\n",
    "model_name = \"noahkim/KoT5_news_summarization\"\n",
    "local_dir = \"./model\"\n",
    "\n",
    "# 로컬 디렉토리 생성\n",
    "os.makedirs(local_dir, exist_ok=True)\n",
    "\n",
    "# 모델 및 토크나이저 다운로드 및 로컬에 저장\n",
    "print(f\"Downloading model '{model_name}' to '{local_dir}'...\")\n",
    "\n",
    "# 모델 다운로드\n",
    "model = AutoModelForSeq2SeqLM.from_pretrained(model_name)\n",
    "model.save_pretrained(local_dir)\n",
    "\n",
    "# 토크나이저 다운로드\n",
    "tokenizer = AutoTokenizer.from_pretrained(model_name)\n",
    "tokenizer.save_pretrained(local_dir)\n",
    "\n",
    "print(f\"Model and tokenizer downloaded successfully to '{local_dir}'\")"
   ]
  }
 ],
 "metadata": {
  "kernelspec": {
   "display_name": "pytorch",
   "language": "python",
   "name": "python3"
  },
  "language_info": {
   "codemirror_mode": {
    "name": "ipython",
    "version": 3
   },
   "file_extension": ".py",
   "mimetype": "text/x-python",
   "name": "python",
   "nbconvert_exporter": "python",
   "pygments_lexer": "ipython3",
   "version": "3.12.8"
  }
 },
 "nbformat": 4,
 "nbformat_minor": 2
}
